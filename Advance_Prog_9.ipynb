{
 "cells": [
  {
   "cell_type": "code",
   "execution_count": 1,
   "id": "63353911",
   "metadata": {},
   "outputs": [
    {
     "name": "stdout",
     "output_type": "stream",
     "text": [
      "None\n"
     ]
    }
   ],
   "source": [
    "\"\"\"1. YouTube offers different playback speed options for users. This allows\n",
    "users to increase or decrease the speed of the video content. Given the\n",
    "actual duration and playback speed of the video, calculate the playback\n",
    "duration of the video.\n",
    "Examples\n",
    "playback_duration(\"00:30:00\", 2) ➞ \"00:15:00\"\n",
    "playback_duration(\"01:20:00\", 1.5) ➞ \"00:53:20\"\n",
    "playback_duration(\"51:20:09\", 0.5) ➞ \"102:40:18\" \"\"\"\n",
    "\n",
    "def playback_duration(t, s):\n",
    "    pass\n",
    "\n",
    "print(playback_duration(\"51:20:09\", 0.5))\n",
    "\n",
    "##not completed"
   ]
  },
  {
   "cell_type": "code",
   "execution_count": 2,
   "id": "20373099",
   "metadata": {},
   "outputs": [
    {
     "name": "stdout",
     "output_type": "stream",
     "text": [
      "45\n",
      "2022\n",
      "None\n"
     ]
    }
   ],
   "source": [
    "\"\"\"2. We needs your help to construct a building which will be a pile of n cubes.\n",
    "The cube at the bottom will have a volume of n^3, the cube above will have\n",
    "volume of (n-1)^3 and so on until the top which will have a volume of 1^3.\n",
    "Given the total volume m of the building, can you find the number of cubes n\n",
    "required for the building?\n",
    "In other words, you have to return an integer n such that:\n",
    "n^3 + (n-1)^3 + ... + 1^3 == m\n",
    "Return None if there is no such number.\n",
    "Examples\n",
    "pile_of_cubes(1071225) ➞ 45\n",
    "pile_of_cubes(4183059834009) ➞ 2022\n",
    "pile_of_cubes(16) ➞ None\"\"\"\n",
    "\n",
    "def pile_of_cubes(m):\n",
    "    s = 0\n",
    "    for i in range(m):\n",
    "        if i > 0:\n",
    "            s = s + (i)**3\n",
    "        if s == m:\n",
    "            return i\n",
    "\n",
    "print(pile_of_cubes(1071225))\n",
    "print(pile_of_cubes(4183059834009))\n",
    "print(pile_of_cubes(16))\n",
    "\n"
   ]
  },
  {
   "cell_type": "code",
   "execution_count": 3,
   "id": "fb915461",
   "metadata": {},
   "outputs": [
    {
     "name": "stdout",
     "output_type": "stream",
     "text": [
      "2\n",
      "4\n",
      "1\n",
      "0\n",
      "None\n"
     ]
    }
   ],
   "source": [
    "\"\"\"3. A fulcrum of a list is an integer such that all elements to the left of it and all\n",
    "elements to the right of it sum to the same value. Write a function that finds\n",
    "the fulcrum of a list.\n",
    "To illustrate:\n",
    "find_fulcrum([3, 1, 5, 2, 4, 6, -1]) ➞ 2\n",
    "// Since [3, 1, 5] and [4, 6, -1] both sum to 9\n",
    "Examples\n",
    "\n",
    "find_fulcrum([1, 2, 4, 9, 10, -10, -9, 3]) ➞ 4\n",
    "find_fulcrum([9, 1, 9]) ➞ 1\n",
    "find_fulcrum([7, -1, 0, -1, 1, 1, 2, 3]) ➞ 0\n",
    "find_fulcrum([8, 8, 8, 8]) ➞ -1\"\"\"\n",
    "\n",
    "def find_fulcrum(n):\n",
    "    a = 0\n",
    "    b = 0\n",
    "    l = len(n)\n",
    "    k = 0\n",
    "    mid = l // 2\n",
    "    while k < l:\n",
    "        for i in range(0, mid-k):\n",
    "            a = a + n[i]\n",
    "        #print(a)\n",
    "        for j in range(l-1, mid-k, -1):\n",
    "            b = b + n[j]\n",
    "        #print(b)\n",
    "        if a == b:\n",
    "            return n[i+1]\n",
    "        else:\n",
    "            a = 0\n",
    "            b = 0\n",
    "            k +=1\n",
    "\n",
    "print(find_fulcrum([3, 1, 5, 2, 4, 6, -1]))\n",
    "print(find_fulcrum([1, 2, 4, 9, 10, -10, -9, 3]))\n",
    "print(find_fulcrum([9, 1, 9]))\n",
    "print(find_fulcrum([7, -1, 0, -1, 1, 1, 2, 3]))\n",
    "print(find_fulcrum([8, 8, 8, 8]))\n"
   ]
  },
  {
   "cell_type": "code",
   "execution_count": 5,
   "id": "91889f38",
   "metadata": {},
   "outputs": [],
   "source": [
    "\"\"\"4. Given a list of integers representing the color of each sock, determine how\n",
    "many pairs of socks with matching colors there are. For example, there are 7\n",
    "socks with colors [1, 2, 1, 2, 1, 3, 2]. There is one pair of color 1 and one of\n",
    "color 2. There are three odd socks left, one of each color. The number of\n",
    "pairs is 2.\n",
    "Create a function that returns an integer representing the number of matching\n",
    "pairs of socks that are available.\n",
    "Examples\n",
    "sock_merchant([10, 20, 20, 10, 10, 30, 50, 10, 20]) ➞ 3\n",
    "sock_merchant([50, 20, 30, 90, 30, 20, 50, 20, 90]) ➞ 4\n",
    "sock_merchant([]) ➞ 0\"\"\"\n",
    "\n",
    "def sock_merchant(n):\n",
    "    s = 0\n",
    "    for i in range(len(n)):\n",
    "        p = n[i]\n",
    "        for j in range(1,len(n)):\n",
    "            if p == n[j]:\n",
    "                s = s + 1\n",
    "                n = n.pop(n[j])\n",
    "    return s\n",
    "\n",
    "\n",
    "\n",
    "#print(sock_merchant([10, 20, 20, 10, 10, 30, 50, 10, 20]))\n",
    "#print(sock_merchant([50, 20, 30, 90, 30, 20, 50, 20, 90]))\n",
    "\n",
    "#Not Complteted"
   ]
  },
  {
   "cell_type": "code",
   "execution_count": 6,
   "id": "f7be8d67",
   "metadata": {},
   "outputs": [
    {
     "data": {
      "text/plain": [
       "'5. Create a function that takes a string containing integers as well as other\\ncharacters and return the sum of the negative integers only.\\nExamples\\nnegative_sum(\"-12 13%14&-11\") ➞ -23\\n# -12 + -11 = -23\\nnegative_sum(\"22 13%14&-11-22 13 12\") ➞ -33\\n# -11 + -22 = -33'"
      ]
     },
     "execution_count": 6,
     "metadata": {},
     "output_type": "execute_result"
    }
   ],
   "source": [
    "\"\"\"5. Create a function that takes a string containing integers as well as other\n",
    "characters and return the sum of the negative integers only.\n",
    "Examples\n",
    "negative_sum(\"-12 13%14&-11\") ➞ -23\n",
    "# -12 + -11 = -23\n",
    "negative_sum(\"22 13%14&-11-22 13 12\") ➞ -33\n",
    "# -11 + -22 = -33\"\"\""
   ]
  },
  {
   "cell_type": "code",
   "execution_count": null,
   "id": "8111950a",
   "metadata": {},
   "outputs": [],
   "source": []
  }
 ],
 "metadata": {
  "kernelspec": {
   "display_name": "Python 3 (ipykernel)",
   "language": "python",
   "name": "python3"
  },
  "language_info": {
   "codemirror_mode": {
    "name": "ipython",
    "version": 3
   },
   "file_extension": ".py",
   "mimetype": "text/x-python",
   "name": "python",
   "nbconvert_exporter": "python",
   "pygments_lexer": "ipython3",
   "version": "3.9.7"
  }
 },
 "nbformat": 4,
 "nbformat_minor": 5
}
