{
 "cells": [
  {
   "cell_type": "code",
   "execution_count": 1,
   "id": "227cb641",
   "metadata": {},
   "outputs": [
    {
     "name": "stdout",
     "output_type": "stream",
     "text": [
      "[3.0, 3.0, 3.0]\n",
      "[7.5, 12.0, 14.5]\n",
      "[75.0, 27.0]\n"
     ]
    }
   ],
   "source": [
    "\"\"\"1. Given a list of numbers, create a function that removes 25% from every\n",
    "number in the list except the smallest number, and adds the total amount\n",
    "removed to the smallest number.\n",
    "Examples\n",
    "show_the_love([4, 1, 4]) ➞ [3, 3, 3]\n",
    "show_the_love([16, 10, 8]) ➞ [12, 7.5, 14.5]\n",
    "show_the_love([2, 100]) ➞ [27, 75]\"\"\"\n",
    "\n",
    "def show_the_love(n):\n",
    "    n.sort()\n",
    "    small_num = n[0]\n",
    "    s_num = n[0]\n",
    "    l = []\n",
    "    for i in n:\n",
    "        if i != small_num:\n",
    "            per_num = (i * 25) / 100\n",
    "            s_num = s_num + (i * 25) / 100\n",
    "            new_num = i - per_num\n",
    "            l.append(new_num)\n",
    "    l.append(s_num)\n",
    "    return l\n",
    "\n",
    "print(show_the_love([4, 1, 4]))\n",
    "print(show_the_love([16, 10, 8]))\n",
    "print(show_the_love([2, 100]))\n",
    "\n"
   ]
  },
  {
   "cell_type": "code",
   "execution_count": 2,
   "id": "7a8ad44e",
   "metadata": {},
   "outputs": [
    {
     "name": "stdout",
     "output_type": "stream",
     "text": [
      "['aps', 'hr', 'o']\n",
      "['bdor', 'a', 'e']\n",
      "['enp', 'ahis', 'lov']\n",
      "['flu', 'ekr', 'y']\n",
      "['ahm', 'ct', '']\n"
     ]
    }
   ],
   "source": [
    "\"\"\"2. Create a function that takes in two words as input and returns a list of three\n",
    "elements, in the following order:\n",
    "1.Shared letters between two words.\n",
    "2.Letters unique to word 1.\n",
    "3.Letters unique to word 2.\n",
    "Each element should have unique letters, and have each letter be\n",
    "alphabetically sorted.\n",
    "Examples\n",
    "letters(\"sharp\", \"soap\") ➞ [\"aps\", \"hr\", \"o\"]\n",
    "letters(\"board\", \"bored\") ➞ [\"bdor\", \"a\", \"e\"]\n",
    "letters(\"happiness\", \"envelope\") ➞ [\"enp\", \"ahis\", \"lov\"]\n",
    "letters(\"kerfuffle\", \"fluffy\") ➞ [\"flu\", \"ekr\", \"y\"]\n",
    "# Even with multiple matching letters (e.g. 3 f's), there should\n",
    "# only exist a single \"f\" in your first element.\n",
    "letters(\"match\", \"ham\") ➞ [\"ahm\", \"ct\", \"\"]\n",
    "# \"ham\" does not contain any letters that are not found already in \"match\".\"\"\"\n",
    "\n",
    "def letters(s1, s2):\n",
    "    result = []\n",
    "    l = \"\"\n",
    "    s1_uniq = \"\"\n",
    "    s2_uniq = \"\"\n",
    "    for i in s1:\n",
    "        if i in s2:\n",
    "            if i not in l:\n",
    "                l += i\n",
    "        if i not in s2:\n",
    "            if i not in s1_uniq:\n",
    "                s1_uniq += i\n",
    "    for j in s2:\n",
    "        if j not in s1:\n",
    "            if j not in s2_uniq:\n",
    "                s2_uniq += j\n",
    "    l_sortd = \"\".join(sorted(l))\n",
    "    s1_sortd = \"\".join(sorted(s1_uniq))\n",
    "    s2_sortd = \"\".join(sorted(s2_uniq))\n",
    "    result.append(l_sortd)\n",
    "    result.append(s1_sortd)\n",
    "    result.append(s2_sortd)\n",
    "    return result\n",
    "\n",
    "print(letters(\"sharp\", \"soap\"))\n",
    "print(letters(\"board\", \"bored\"))\n",
    "print(letters(\"happiness\", \"envelope\"))\n",
    "print(letters(\"kerfuffle\", \"fluffy\"))\n",
    "print(letters(\"match\", \"ham\"))"
   ]
  },
  {
   "cell_type": "code",
   "execution_count": 3,
   "id": "a1a372b2",
   "metadata": {},
   "outputs": [
    {
     "name": "stdout",
     "output_type": "stream",
     "text": [
      "[[(1, 7)], [(2, 6)], [(3, 5)], [(4, 4)]]\n",
      "[[(1, 6)], [(2, 5)], [(3, 4)]]\n",
      "[[(5, 2)], [(9, 1)], [(8, 8)]]\n",
      "[]\n"
     ]
    }
   ],
   "source": [
    "\"\"\"3. Write a function that pairs the first number in an array with the last, the\n",
    "second number with the second to last, etc.\n",
    "Examples\n",
    "pairs([1, 2, 3, 4, 5, 6, 7]) ➞ [[1, 7], [2, 6], [3, 5], [4, 4]]\n",
    "pairs([1, 2, 3, 4, 5, 6]) ➞ [[1, 6], [2, 5], [3, 4]]\n",
    "pairs([5, 9, 8, 1, 2]) ➞ [[5, 2], [9, 1], [8, 8]]\n",
    "pairs([]) ➞ []\"\"\"\n",
    "\n",
    "def pairs(n):\n",
    "    j = len(n) - 1\n",
    "    l = []\n",
    "    mid = int(len(n) / 2)\n",
    "    for i in range(len(n)):\n",
    "        s_list= []\n",
    "        while j <= len(n):\n",
    "            s_list.append((n[i], n[j]))\n",
    "            break\n",
    "        j -= 1\n",
    "        l.append(s_list)\n",
    "    if len(n) % 2 == 0:\n",
    "        mid = len(n) // 2\n",
    "        return l[:mid]\n",
    "    else:\n",
    "        return l[:mid + 1]\n",
    "\n",
    "print(pairs([1, 2, 3, 4, 5, 6, 7]))\n",
    "print(pairs([1, 2, 3, 4, 5, 6]))\n",
    "print(pairs([5, 9, 8, 1, 2]))\n",
    "print(pairs([]))\n",
    "\n"
   ]
  },
  {
   "cell_type": "code",
   "execution_count": 4,
   "id": "8e33cc20",
   "metadata": {},
   "outputs": [
    {
     "name": "stdout",
     "output_type": "stream",
     "text": [
      "9\n",
      "1\n",
      "1874682736267235927391936562808774986\n"
     ]
    }
   ],
   "source": [
    "\"\"\"4. Write a function that adds two numbers. The catch, however, is that the\n",
    "numbers will be strings.\n",
    "Examples\n",
    "add_str_nums(\"4\", \"5\") ➞ \"9\"\n",
    "add_str_nums(\"abcdefg\", \"3\") ➞ \"-1\"\n",
    "add_str_nums(\"1\", \"\") ➞ \"1\"\n",
    "add_str_nums(\"1874682736267235927359283579235789257\",\n",
    "\"32652983572985729\") ➞ \"1874682736267235927391936562808774986\" \"\"\"\n",
    "\n",
    "def add_str_nums(s1, s2):\n",
    "    if s2 == \"\":\n",
    "        s2 = 0\n",
    "    sum = int(s1) + int(s2)\n",
    "    return str(sum)\n",
    "\n",
    "print(add_str_nums(\"4\", \"5\"))\n",
    "print(add_str_nums(\"1\", \"\"))\n",
    "#print(add_str_nums(\"abcdefg\", \"3\"))\n",
    "print(add_str_nums(\"1874682736267235927359283579235789257\",\n",
    "\"32652983572985729\"))\n",
    "\n"
   ]
  },
  {
   "cell_type": "code",
   "execution_count": 6,
   "id": "01390513",
   "metadata": {},
   "outputs": [
    {
     "name": "stdout",
     "output_type": "stream",
     "text": [
      "\n",
      "This i siaem xpdsur nt.ig\n",
      "123456\n"
     ]
    }
   ],
   "source": [
    "\"\"\"5. lPaeesh le pemu mnxit ehess rtnisg! Oh, sorry, that was supposed to say:\n",
    "Please help me unmix these strings!\n",
    "Somehow my strings have all become mixed up; every pair of characters has\n",
    "been swapped. Help me undo this so I can understand my strings again.\n",
    "Examples\n",
    "unmix(\"214365\") ➞ \"123456\"\n",
    "unmix(\"hTsii s aimex dpus rtni.g\") ➞ \"This is a mixed up string.\"\n",
    "unmix(\"badce\") ➞ \"abcde\" \"\"\"\n",
    "\n",
    "# def unmix(txt):\n",
    "#     txt = [txt[i:i+2] for i in range(0, len(txt), 2)]\n",
    "#     #print(txt)\n",
    "#     return ''.join([i[::-1] for i in txt])\n",
    "# #print(unmix(\"hTsii s aimex dpus rtni.g\"))\n",
    "# print(unmix(\"214365\"))\n",
    "# print(unmix(\"badce\"))\n",
    "\n",
    "print()\n",
    "#print(\"'My Code'\")\n",
    "def unmix1(txt):\n",
    "    l = []\n",
    "    m = \"\"\n",
    "    for i in range(0,len(txt), 2):\n",
    "        k = txt[i:i+2]\n",
    "        l.append(k)\n",
    "    for i in l:\n",
    "        s = i[::-1]\n",
    "        m = m+s\n",
    "    return m\n",
    "\n",
    "print(unmix1(\"hTsii s aimex dpus rtni.g\"))\n",
    "print(unmix1(\"214365\"))"
   ]
  },
  {
   "cell_type": "code",
   "execution_count": null,
   "id": "4288c717",
   "metadata": {},
   "outputs": [],
   "source": []
  }
 ],
 "metadata": {
  "kernelspec": {
   "display_name": "Python 3 (ipykernel)",
   "language": "python",
   "name": "python3"
  },
  "language_info": {
   "codemirror_mode": {
    "name": "ipython",
    "version": 3
   },
   "file_extension": ".py",
   "mimetype": "text/x-python",
   "name": "python",
   "nbconvert_exporter": "python",
   "pygments_lexer": "ipython3",
   "version": "3.9.7"
  }
 },
 "nbformat": 4,
 "nbformat_minor": 5
}
