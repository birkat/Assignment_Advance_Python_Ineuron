{
 "cells": [
  {
   "cell_type": "code",
   "execution_count": 1,
   "id": "89d498d3",
   "metadata": {},
   "outputs": [
    {
     "name": "stdout",
     "output_type": "stream",
     "text": [
      "2\n",
      "8\n",
      "2\n"
     ]
    }
   ],
   "source": [
    "\"\"\"1. Create a function that takes a number n (integer greater than zero) as an\n",
    "argument, and returns 2 if n is odd and 8 if n is even.\n",
    "You can only use the following arithmetic operators: addition of numbers +,\n",
    "subtraction of numbers -, multiplication of number *, division of number /, and\n",
    "exponentiation **.\n",
    "You are not allowed to use any other methods in this challenge (i.e. no if\n",
    "statements, comparison operators, etc).\n",
    "Examples\n",
    "f(1) ➞ 2\n",
    "f(2) ➞ 8\n",
    "f(3) ➞ 2 \"\"\"\n",
    "\n",
    "def f(n):\n",
    "    # arr = [\"Even\", \"Odd\"]\n",
    "    # return (arr[n%2])\n",
    "\n",
    "    arr = [\"8\", \"2\"]\n",
    "    return (arr[n%2])\n",
    "\n",
    "print(f(1))\n",
    "print(f(2))\n",
    "print(f(3))"
   ]
  },
  {
   "cell_type": "code",
   "execution_count": 2,
   "id": "0f42f287",
   "metadata": {},
   "outputs": [
    {
     "name": "stdout",
     "output_type": "stream",
     "text": [
      "A\n",
      "A\n",
      "None\n"
     ]
    }
   ],
   "source": [
    "\"\"\"2. Create a function that returns the majority vote in a list. A majority vote is\n",
    "an element that occurs > N/2 times in a list (where N is the length of the list).\n",
    "Examples\n",
    "majority_vote([\"A\", \"A\", \"B\"]) ➞ \"A\"\n",
    "majority_vote([\"A\", \"A\", \"A\", \"B\", \"C\", \"A\"]) ➞ \"A\"\n",
    "majority_vote([\"A\", \"B\", \"B\", \"A\", \"C\", \"C\"]) ➞ None\"\"\"\n",
    "\n",
    "def majority_vote(n):\n",
    "    l = len(n)\n",
    "    m = l/2\n",
    "    x = n.count(\"A\")\n",
    "    y = n.count(\"B\")\n",
    "    z = n.count(\"C\")\n",
    "    if x > m:\n",
    "        return \"A\"\n",
    "    elif y > m:\n",
    "        return \"B\"\n",
    "    elif z > m:\n",
    "        return \"C\"\n",
    "    else:\n",
    "        return None\n",
    "\n",
    "print(majority_vote([\"A\", \"A\", \"A\", \"B\", \"C\", \"A\"]))\n",
    "print(majority_vote([\"A\", \"A\", \"B\"]))\n",
    "print(majority_vote([\"A\", \"B\", \"B\", \"A\", \"C\", \"C\"]))\n",
    "\n"
   ]
  },
  {
   "cell_type": "code",
   "execution_count": 3,
   "id": "528cbca5",
   "metadata": {},
   "outputs": [
    {
     "name": "stdout",
     "output_type": "stream",
     "text": [
      " ----- is - Wednesday!\n",
      " The *** jumped **** the moon.\n",
      " Why *** the ******* cross the road?\n"
     ]
    }
   ],
   "source": [
    "\"\"\"3. Create a function that takes a string txt and censors any word from a given\n",
    "list lst. The text removed must be replaced by the given character char.\n",
    "Examples\n",
    "censor_string(\"Today is a Wednesday!\", [\"Today\", \"a\"], \"-\") ➞ \"----- is - Wednesday!\"\n",
    "censor_string(\"The cow jumped over the moon.\", [\"cow\", \"over\"], \"*\"), \"The *** jumped **** the moon.\")\n",
    "censor_string(\"Why did the chicken cross the road?\", [\"Did\", \"chicken\",\n",
    "\"road\"], \"*\") ➞ \"Why *** the ******* cross the ****?\" \"\"\"\n",
    "\n",
    "def censor_string(string, char, symbl):\n",
    "    s = string.split()\n",
    "    k = \"\"\n",
    "    for i in range(len(s)):\n",
    "            if s[i] in char:\n",
    "                k = k + \" \" + (len(s[i]) * symbl)\n",
    "            else:\n",
    "                k = k + \" \" + s[i]\n",
    "    return k\n",
    "\n",
    "print(censor_string(\"Today is a Wednesday!\", [\"Today\", \"a\"], \"-\"))\n",
    "print(censor_string(\"The cow jumped over the moon.\", [\"cow\", \"over\"], \"*\"))\n",
    "print(censor_string(\"Why did the chicken cross the road?\", [\"did\", \"chicken\", \"road\"], \"*\"))\n"
   ]
  },
  {
   "cell_type": "code",
   "execution_count": 4,
   "id": "6e0f97a3",
   "metadata": {},
   "outputs": [
    {
     "name": "stdout",
     "output_type": "stream",
     "text": [
      "True\n",
      "False\n",
      "True\n",
      "True\n"
     ]
    }
   ],
   "source": [
    "\"\"\"4. In mathematics a Polydivisible Number (or magic number) is a number in a\n",
    "given number base with digits abcde... that has the following properties:\n",
    "- Its first digit a is not 0.\n",
    "- The number formed by its first two digits ab is a multiple of 2.\n",
    "- The number formed by its first three digits abc is a multiple of 3.\n",
    "- The number formed by its first four digits abcd is a multiple of 4.\n",
    "Create a function which takes an integer n and returns True if the given\n",
    "number is a Polydivisible Number and False otherwise.\n",
    "Examples\n",
    "is_polydivisible(1232) ➞ True\n",
    "# 1 / 1 = 1\n",
    "# 12 / 2 = 6\n",
    "# 123 / 3 = 41\n",
    "# 1232 / 4 = 308\n",
    "is_polydivisible(123220 ) ➞ False\n",
    "# 1 / 1 = 1\n",
    "# 12 / 2 = 6\n",
    "# 123 / 3 = 41\n",
    "# 1232 / 4 = 308\n",
    "# 12322 / 5 = 2464.4 # Not a Whole Number\n",
    "# 123220 /6 = 220536.333... # Not a Whole Number\"\"\"\n",
    "\n",
    "def is_polydivisible(n):\n",
    "    m = str(n)\n",
    "    num = m[::-1]\n",
    "    out = \"\"\n",
    "    for i in range(1, len(num) +1):\n",
    "        rem = int(num) % 10\n",
    "        out = out + str(rem)\n",
    "        if int(out) % i == 0:\n",
    "            num = int(num) // 10\n",
    "            continue\n",
    "        else:\n",
    "            return False\n",
    "    return True\n",
    "\n",
    "print(is_polydivisible(1232))\n",
    "print(is_polydivisible(123220))\n",
    "print(is_polydivisible(3608528850368400786036725))\n",
    "print(is_polydivisible(345654))"
   ]
  },
  {
   "cell_type": "code",
   "execution_count": 5,
   "id": "ddfdb216",
   "metadata": {},
   "outputs": [
    {
     "name": "stdout",
     "output_type": "stream",
     "text": [
      "17\n",
      "87\n",
      "None\n"
     ]
    }
   ],
   "source": [
    "\"\"\"5. Create a function that takes a list of numbers and returns the sum of all\n",
    "prime numbers in the list.\n",
    "Examples\n",
    "sum_primes([1, 2, 3, 4, 5, 6, 7, 8, 9, 10]) ➞ 17\n",
    "sum_primes([2, 3, 4, 11, 20, 50, 71]) ➞ 87\n",
    "sum_primes([]) ➞ None\"\"\"\n",
    "\n",
    "\n",
    "def sum_primes(lst):\n",
    "    if lst == []:\n",
    "        return None\n",
    "    else:\n",
    "        sum = 0\n",
    "        for n in lst:\n",
    "            c = 0\n",
    "            for i in range(1, n+1):\n",
    "                if n % i == 0:\n",
    "                    c = c + 1\n",
    "            if c == 2:\n",
    "                sum = sum + n\n",
    "        return sum\n",
    "\n",
    "print(sum_primes([1, 2, 3, 4, 5, 6, 7, 8, 9, 10]))\n",
    "print(sum_primes([2, 3, 4, 11, 20, 50, 71]))\n",
    "print(sum_primes([]))"
   ]
  },
  {
   "cell_type": "code",
   "execution_count": null,
   "id": "ccddd7e0",
   "metadata": {},
   "outputs": [],
   "source": []
  }
 ],
 "metadata": {
  "kernelspec": {
   "display_name": "Python 3 (ipykernel)",
   "language": "python",
   "name": "python3"
  },
  "language_info": {
   "codemirror_mode": {
    "name": "ipython",
    "version": 3
   },
   "file_extension": ".py",
   "mimetype": "text/x-python",
   "name": "python",
   "nbconvert_exporter": "python",
   "pygments_lexer": "ipython3",
   "version": "3.9.7"
  }
 },
 "nbformat": 4,
 "nbformat_minor": 5
}
