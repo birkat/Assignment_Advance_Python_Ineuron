{
 "cells": [
  {
   "cell_type": "code",
   "execution_count": 1,
   "id": "1c04bdc2",
   "metadata": {},
   "outputs": [
    {
     "name": "stdout",
     "output_type": "stream",
     "text": [
      "1\n",
      "6\n",
      "16\n",
      "141\n",
      "391\n"
     ]
    }
   ],
   "source": [
    "\"\"\"1. Write a function that takes a positive integer num and calculates how many\n",
    "dots exist in a pentagonal shape around the center dot on the Nth iteration.\n",
    "In the image below you can see the first iteration is only a single dot. On the\n",
    "second, there are 6 dots. On the third, there are 16 dots, and on the fourth\n",
    "there are 31 dots.\n",
    "\n",
    "Return the number of dots that exist in the whole pentagon on the Nth\n",
    "iteration.\n",
    "Examples\n",
    "pentagonal(1) ➞ 1\n",
    "pentagonal(2) ➞ 6\n",
    "pentagonal(3) ➞ 16\n",
    "pentagonal(8) ➞ 141\"\"\"\n",
    "\n",
    "def pentagonal(n):\n",
    "    if n == 1:\n",
    "        return 1\n",
    "    else:\n",
    "        n = n - 1\n",
    "        s = 0\n",
    "        while n > 0:\n",
    "            sum = 5 * n\n",
    "            s = s + sum\n",
    "            n = n -1\n",
    "        return s + 1\n",
    "\n",
    "\"\"\"One line code\"\"\"\n",
    "    # return (5 * n * n - 5 * n + 2) // 2\n",
    "\n",
    "print(pentagonal(1))\n",
    "print(pentagonal(2))\n",
    "print(pentagonal(3))\n",
    "print(pentagonal(8))\n",
    "print(pentagonal(13))"
   ]
  },
  {
   "cell_type": "code",
   "execution_count": 2,
   "id": "2cf2554a",
   "metadata": {},
   "outputs": [
    {
     "name": "stdout",
     "output_type": "stream",
     "text": [
      "0n0n0baca\n",
      "0c0r0kaca\n",
      "k0r3baca\n",
      "0c0pl0aca\n"
     ]
    }
   ],
   "source": [
    "\"\"\"2. Make a function that encrypts a given input with these steps:\n",
    "Input: \"apple\"\n",
    "Step 1: Reverse the input: \"elppa\"\n",
    "Step 2: Replace all vowels using the following chart:\n",
    "a => 0\n",
    "e => 1\n",
    "i => 2\n",
    "o => 2\n",
    "u => 3\n",
    "# \"1lpp0\"\n",
    "\n",
    "Step 3: Add \"aca\" to the end of the word: \"1lpp0aca\"\n",
    "Output: \"1lpp0aca\"\n",
    "Examples\n",
    "encrypt(\"banana\") ➞ \"0n0n0baca\"\n",
    "encrypt(\"karaca\") ➞ \"0c0r0kaca\"\n",
    "encrypt(\"burak\") ➞ \"k0r3baca\"\n",
    "encrypt(\"alpaca\") ➞ \"0c0pl0aca\" \"\"\"\n",
    "\n",
    "def encrypt(s):\n",
    "    v = {\"a\": 0, \"e\": 1, \"i\":2, \"o\": 2, \"u\": 3}\n",
    "    out = \"\"\n",
    "    srev = s[::-1]\n",
    "    for i in srev:\n",
    "        if i in v:\n",
    "            out = out + str(v[i])\n",
    "        else:\n",
    "            out = out + i\n",
    "    return out + \"aca\"\n",
    "\n",
    "print(encrypt(\"banana\"))\n",
    "print(encrypt(\"karaca\"))\n",
    "print(encrypt(\"burak\"))\n",
    "print(encrypt(\"alpaca\"))"
   ]
  },
  {
   "cell_type": "code",
   "execution_count": 3,
   "id": "7f227070",
   "metadata": {},
   "outputs": [
    {
     "name": "stdout",
     "output_type": "stream",
     "text": [
      "True\n",
      "True\n",
      "False\n"
     ]
    }
   ],
   "source": [
    "\"\"\"3. Given the month and year as numbers, return whether that month contains\n",
    "a Friday 13th.(i.e You can check Python's datetime module)\n",
    "Examples\n",
    "has_friday_13(3, 2020) ➞ True\n",
    "has_friday_13(10, 2017) ➞ True\n",
    "has_friday_13(1, 1985) ➞ False\"\"\"\n",
    "import calendar\n",
    "from datetime import datetime\n",
    "\n",
    "\n",
    "def has_friday_13(month, year):\n",
    "    day_num = calendar.weekday(year, month, 13)\n",
    "    return calendar.day_name[day_num] == \"Friday\"\n",
    "\n",
    "print(has_friday_13(3, 2020))\n",
    "print(has_friday_13(10, 2017))\n",
    "print(has_friday_13(1, 1985))\n",
    "\n"
   ]
  },
  {
   "cell_type": "code",
   "execution_count": 4,
   "id": "5de693c0",
   "metadata": {},
   "outputs": [
    {
     "data": {
      "text/plain": [
       "'4. Write a regular expression that will help us count how many bad cookies\\nare produced every day. You must use RegEx negative lookbehind.\\nExample\\nlst = [\"bad cookie\", \"good cookie\", \"bad cookie\", \"good cookie\", \"good cookie\"]\\npattern = \"yourregularexpressionhere\"\\nlen(re.findall(pattern, \",\".join(lst))) ➞ 2'"
      ]
     },
     "execution_count": 4,
     "metadata": {},
     "output_type": "execute_result"
    }
   ],
   "source": [
    "\"\"\"4. Write a regular expression that will help us count how many bad cookies\n",
    "are produced every day. You must use RegEx negative lookbehind.\n",
    "Example\n",
    "lst = [\"bad cookie\", \"good cookie\", \"bad cookie\", \"good cookie\", \"good cookie\"]\n",
    "pattern = \"yourregularexpressionhere\"\n",
    "len(re.findall(pattern, \",\".join(lst))) ➞ 2\"\"\"\n",
    "\n"
   ]
  },
  {
   "cell_type": "code",
   "execution_count": 5,
   "id": "4106fb7c",
   "metadata": {},
   "outputs": [
    {
     "name": "stdout",
     "output_type": "stream",
     "text": [
      "{'pig', 'cows'}\n",
      "{'tables'}\n",
      "{'pencil', 'chair', 'arm'}\n"
     ]
    }
   ],
   "source": [
    "\"\"\"5. Given a list of words in the singular form, return a set of those words in the\n",
    "plural form if they appear more than once in the list.\n",
    "Examples\n",
    "pluralize([\"cow\", \"pig\", \"cow\", \"cow\"]) ➞ {\"cows\", \"pig\"}\n",
    "pluralize([\"table\", \"table\", \"table\"]) ➞ {\"tables\"}\n",
    "pluralize([\"chair\", \"pencil\", \"arm\"]) ➞ {\"chair\", \"pencil\", \"arm\"}\"\"\"\n",
    "\n",
    "def pluralize(n):\n",
    "    s = []\n",
    "    for i in n:\n",
    "        d = n.count(i)\n",
    "        if d > 1:\n",
    "            s.append(i+\"s\")\n",
    "        if d == 1:\n",
    "            s.append(i)\n",
    "    return set(s)\n",
    "\n",
    "print(pluralize([\"cow\", \"pig\", \"cow\", \"cow\"]))\n",
    "print(pluralize([\"table\", \"table\", \"table\"]))\n",
    "print(pluralize([\"chair\", \"pencil\", \"arm\"]))\n",
    "\n"
   ]
  },
  {
   "cell_type": "code",
   "execution_count": null,
   "id": "1f1f6aa4",
   "metadata": {},
   "outputs": [],
   "source": []
  }
 ],
 "metadata": {
  "kernelspec": {
   "display_name": "Python 3 (ipykernel)",
   "language": "python",
   "name": "python3"
  },
  "language_info": {
   "codemirror_mode": {
    "name": "ipython",
    "version": 3
   },
   "file_extension": ".py",
   "mimetype": "text/x-python",
   "name": "python",
   "nbconvert_exporter": "python",
   "pygments_lexer": "ipython3",
   "version": "3.9.7"
  }
 },
 "nbformat": 4,
 "nbformat_minor": 5
}
