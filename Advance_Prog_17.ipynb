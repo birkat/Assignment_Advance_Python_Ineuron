{
 "cells": [
  {
   "cell_type": "code",
   "execution_count": 1,
   "id": "5ce8b530",
   "metadata": {},
   "outputs": [
    {
     "name": "stdout",
     "output_type": "stream",
     "text": [
      "[1, 2, 3]\n",
      "[1, 2, 3]\n",
      "[1, 2, 3]\n",
      " \n",
      "[5, 6, 9]\n",
      "[5, 7, 1]\n",
      " \n"
     ]
    }
   ],
   "source": [
    "\"\"\"1. Create a function that transposes a 2D matrix.\n",
    "Examples\n",
    "transpose_matrix([\n",
    "[1, 1, 1],\n",
    "[2, 2, 2],\n",
    "[3, 3, 3]\n",
    "]) ➞ [\n",
    "[1, 2, 3],\n",
    "[1, 2, 3],\n",
    "[1, 2, 3]\n",
    "]\n",
    "transpose_matrix([\n",
    "[5, 5],\n",
    "[6, 7],\n",
    "[9, 1]\n",
    "]) ➞ [\n",
    "[5, 6, 9],\n",
    "[5, 7, 1]\n",
    "] \"\"\"\n",
    "\n",
    "def transpose_matrix(n):\n",
    "    l1 =[]\n",
    "    for i in range(len(n[0])):\n",
    "        l = []\n",
    "        for j in range(len(n)):\n",
    "            l.append(n[j][i])\n",
    "        l1.append(l)\n",
    "    for k in l1:\n",
    "        print(k)\n",
    "    return \" \"\n",
    "\n",
    "print(transpose_matrix([\n",
    "[1, 1, 1],\n",
    "[2, 2, 2],\n",
    "[3, 3, 3]\n",
    "]))\n",
    "\n",
    "print(transpose_matrix([\n",
    "[5, 5],\n",
    "[6, 7],\n",
    "[9, 1]]))"
   ]
  },
  {
   "cell_type": "code",
   "execution_count": 2,
   "id": "b24eea1c",
   "metadata": {},
   "outputs": [
    {
     "name": "stdout",
     "output_type": "stream",
     "text": [
      "True\n",
      "True\n",
      "True\n",
      "False\n",
      "False\n",
      "False\n",
      "False\n"
     ]
    }
   ],
   "source": [
    "\"\"\"2. Create a function that determines whether a string is a valid hex code.\n",
    "A hex code must begin with a pound key # and is exactly 6 characters in\n",
    "length. Each character must be a digit from 0-9 or an alphabetic character\n",
    "from A-F. All alphabetic characters may be uppercase or lowercase.\n",
    "Examples\n",
    "is_valid_hex_code(\"#CD5C5C\") ➞ True\n",
    "is_valid_hex_code(\"#EAECEE\") ➞ True\n",
    "is_valid_hex_code(\"#eaecee\") ➞ True\n",
    "is_valid_hex_code(\"#CD5C58C\") ➞ False\n",
    "# Length exceeds 6\n",
    "is_valid_hex_code(\"#CD5C5Z\") ➞ False\n",
    "# Not all alphabetic characters in A-F\n",
    "is_valid_hex_code(\"#CD5C&C\") ➞ False\n",
    "# Contains unacceptable character\n",
    "is_valid_hex_code(\"CD5C5C\") ➞ False\n",
    "# Missing #\"\"\"\n",
    "\n",
    "def is_valid_hex_code(n):\n",
    "    n = n.lower()\n",
    "    if len(n) == 7:\n",
    "        for i in range(1, len(n)):\n",
    "            if n[0] == \"#\":\n",
    "                #print(ord(n[i]))\n",
    "                if ord(n[i]) in range(97, 103):\n",
    "                    continue\n",
    "                elif ord(n[i]) in range(48, 58):\n",
    "                    continue\n",
    "                else:\n",
    "                    return False\n",
    "            else:\n",
    "                return False\n",
    "        else:\n",
    "            return True\n",
    "    else:\n",
    "        return False\n",
    "\n",
    "print(is_valid_hex_code(\"#CD5C5C\"))\n",
    "print(is_valid_hex_code(\"#EAECEE\"))\n",
    "print(is_valid_hex_code(\"#eaecee\"))\n",
    "print(is_valid_hex_code(\"#CD5C58C\"))\n",
    "print(is_valid_hex_code(\"#CD5C5Z\"))\n",
    "print(is_valid_hex_code(\"#CD5C&C\"))\n",
    "print(is_valid_hex_code(\"CD5C5C\"))\n",
    "\n"
   ]
  },
  {
   "cell_type": "code",
   "execution_count": 3,
   "id": "1959ba63",
   "metadata": {},
   "outputs": [
    {
     "name": "stdout",
     "output_type": "stream",
     "text": [
      "75.0\n",
      "0.0\n",
      "67.0\n"
     ]
    }
   ],
   "source": [
    "\"\"\"3. Given a list of math equations (given as strings), return the percentage of\n",
    "correct answers as a string. Round to the nearest whole number.\n",
    "Examples\n",
    "mark_maths([\"2+2=4\", \"3+2=5\", \"10-3=3\", \"5+5=10\"]) ➞ \"75%\"\n",
    "mark_maths([\"1-2=-2\"]), \"0%\"\n",
    "mark_maths([\"2+3=5\", \"4+4=9\", \"3-1=2\"]) ➞ \"67%\" \"\"\"\n",
    "\n",
    "def mark_maths(n):\n",
    "    count = 0\n",
    "    for equ in n:\n",
    "        u = total_equal(equ)\n",
    "        #print(u)\n",
    "        t = \"\"\n",
    "        l = []\n",
    "        for i in range(len(equ)):\n",
    "            if equ[i] == \"=\":\n",
    "                break\n",
    "            elif equ[i] == \"-\":\n",
    "                for j in range(int(t)):\n",
    "                    l.append(1)\n",
    "                if len(l) < int(equ[i + 1]):\n",
    "                    if len(l) == u:\n",
    "                        count += 1\n",
    "                    break\n",
    "                for k in range(int(equ[i + 1])):\n",
    "                    l.remove(1)\n",
    "                #print(l)\n",
    "                if len(l) == u:\n",
    "                    count += 1\n",
    "                break\n",
    "            elif equ[i] != \"+\":\n",
    "                t += equ[i]\n",
    "            else:\n",
    "                for j in range(int(t)):\n",
    "                    l.append(1)\n",
    "                for k in range(int(equ[i + 1])):\n",
    "                    l.append(1)\n",
    "                #print(l)\n",
    "                if len(l) == u:\n",
    "                    count += 1\n",
    "                break\n",
    "    else:\n",
    "        percent = (count * 100) / len(n)\n",
    "        return round(percent, 0)\n",
    "\n",
    "def total_equal(equ):\n",
    "    for i in range(len(equ)):\n",
    "        if equ[i] == \"=\":\n",
    "            y = equ[i+1:]\n",
    "            return int(y)\n",
    "\n",
    "print(mark_maths([\"2+2=4\", \"3+2=5\", \"10-3=3\", \"5+5=10\"]))\n",
    "print(mark_maths([\"1-2=-2\"])) #This part still to be solved, if we get two digit after \"-\" then we get error or zero\n",
    "print(mark_maths([\"2+3=5\", \"4+4=9\", \"3-1=2\"]))"
   ]
  },
  {
   "cell_type": "code",
   "execution_count": 4,
   "id": "07f14470",
   "metadata": {},
   "outputs": [
    {
     "name": "stdout",
     "output_type": "stream",
     "text": [
      "[[0, 0, 0], [0, '100', 0, '100', 0, '100'], [0, 0, 0]]\n"
     ]
    }
   ],
   "source": [
    "\"\"\"4. There are two players, Alice and Bob, each with a 3-by-3 grid. A referee\n",
    "tells Alice to fill out one particular row in the grid (say the second row) by\n",
    "putting either a 1 or a 0 in each box, such that the sum of the numbers in that\n",
    "row is odd. The referee tells Bob to fill out one column in the grid (say the first\n",
    "column) by putting either a 1 or a 0 in each box, such that the sum of the\n",
    "numbers in that column is even.\n",
    "Alice and Bob win the game if Alice’s numbers give an odd sum, Bob’s give\n",
    "an even sum, and (most important) they’ve each written down the same\n",
    "number in the one square where their row and column intersect.\n",
    "Examples\n",
    "magic_square_game([2, \"100\"], [1, \"101\"]) ➞ False\n",
    "magic_square_game([2, \"001\"], [1, \"101\"]) ➞ True\n",
    "magic_square_game([3, \"111\"], [2, \"011\"]) ➞ True\n",
    "magic_square_game([1, \"010\"], [3, \"101\"]) ➞ False\n",
    "# Two lists, Alice [row, \"her choice\"], Bob [column, \"his choice\"] \"\"\"\n",
    "\n",
    "def magic_square_game(n, m):\n",
    "    l =[]\n",
    "    for i in range(1, 4):\n",
    "        o =[]\n",
    "        for j in range(1, 4):\n",
    "            o.append(0)\n",
    "            if i == n[0]:\n",
    "                o.append(n[1])\n",
    "        l.append(o)\n",
    "    return l\n",
    "\n",
    "print(magic_square_game([2, \"100\"], [1, \"101\"]))"
   ]
  },
  {
   "cell_type": "code",
   "execution_count": 5,
   "id": "ed5c6c7b",
   "metadata": {},
   "outputs": [
    {
     "data": {
      "text/plain": [
       "'5. From point A, an object is moving towards point B at constant velocity va\\n(in km/hr). From point B, another object is moving towards point A at constant\\nvelocity vb (in km/hr). Knowing this and the distance between point A and B\\n(in km), write a function that returns how much time passes until both objects\\nmeet.\\nFormat the output like this:\\n\\n\"2h 23min 34s\"\\n\\nExamples\\nlets_meet(100, 10, 30) ➞ \"2h 30min 0s\"\\nlets_meet(280, 70, 80) ➞ \"1h 52min 0s\"\\nlets_meet(90, 75, 65) ➞ \"0h 38min 34s\" '"
      ]
     },
     "execution_count": 5,
     "metadata": {},
     "output_type": "execute_result"
    }
   ],
   "source": [
    "\"\"\"5. From point A, an object is moving towards point B at constant velocity va\n",
    "(in km/hr). From point B, another object is moving towards point A at constant\n",
    "velocity vb (in km/hr). Knowing this and the distance between point A and B\n",
    "(in km), write a function that returns how much time passes until both objects\n",
    "meet.\n",
    "Format the output like this:\n",
    "\n",
    "\"2h 23min 34s\"\n",
    "\n",
    "Examples\n",
    "lets_meet(100, 10, 30) ➞ \"2h 30min 0s\"\n",
    "lets_meet(280, 70, 80) ➞ \"1h 52min 0s\"\n",
    "lets_meet(90, 75, 65) ➞ \"0h 38min 34s\" \"\"\""
   ]
  },
  {
   "cell_type": "code",
   "execution_count": null,
   "id": "ecb4b190",
   "metadata": {},
   "outputs": [],
   "source": []
  }
 ],
 "metadata": {
  "kernelspec": {
   "display_name": "Python 3 (ipykernel)",
   "language": "python",
   "name": "python3"
  },
  "language_info": {
   "codemirror_mode": {
    "name": "ipython",
    "version": 3
   },
   "file_extension": ".py",
   "mimetype": "text/x-python",
   "name": "python",
   "nbconvert_exporter": "python",
   "pygments_lexer": "ipython3",
   "version": "3.9.7"
  }
 },
 "nbformat": 4,
 "nbformat_minor": 5
}
