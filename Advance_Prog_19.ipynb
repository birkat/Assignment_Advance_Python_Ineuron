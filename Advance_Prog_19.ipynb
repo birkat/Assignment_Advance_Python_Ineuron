{
 "cells": [
  {
   "cell_type": "code",
   "execution_count": 1,
   "id": "0096f61a",
   "metadata": {},
   "outputs": [
    {
     "name": "stdout",
     "output_type": "stream",
     "text": [
      "None\n"
     ]
    }
   ],
   "source": [
    "\"\"\"1. Create a checker board generator, which takes as inputs n and 2 elements\n",
    "to generate an n x n checkerboard with those two elements as alternating\n",
    "squares.\n",
    "Examples\n",
    "checker_board(2, 7, 6) ➞ [\n",
    "[7, 6],\n",
    "[6, 7]\n",
    "]\n",
    "checker_board(3, \"A\", \"B\") ➞ [\n",
    "[\"A\", \"B\", \"A\"],\n",
    "[\"B\", \"A\", \"B\"],\n",
    "[\"A\", \"B\", \"A\"]\n",
    "]\n",
    "checker_board(4, \"c\", \"d\") ➞ [\n",
    "[\"c\", \"d\", \"c\", \"d\"],\n",
    "[\"d\", \"c\", \"d\", \"c\"],\n",
    "[\"c\", \"d\", \"c\", \"d\"],\n",
    "[\"d\", \"c\", \"d\", \"c\"]\n",
    "]\n",
    "checker_board(4, \"c\", \"c\") ➞ \"invalid\" \"\"\"\n",
    "import numpy as np\n",
    "\n",
    "def checker_board(n, ele1, ele2):\n",
    "    x = np.zeros([n, n], dtype=int)\n",
    "    pass\n",
    "print(checker_board(2, 7, 6))"
   ]
  },
  {
   "cell_type": "code",
   "execution_count": 2,
   "id": "afd49ebf",
   "metadata": {},
   "outputs": [
    {
     "name": "stdout",
     "output_type": "stream",
     "text": [
      "True\n",
      "True\n",
      "False\n",
      "False\n"
     ]
    }
   ],
   "source": [
    "\"\"\"2. A string is an almost-palindrome if, by changing only one character, you\n",
    "can make it a palindrome. Create a function that returns True if a string is an\n",
    "almost-palindrome and False otherwise.\n",
    "Examples\n",
    "almost_palindrome(\"abcdcbg\") ➞ True\n",
    "# Transformed to \"abcdcba\" by changing \"g\" to \"a\".\n",
    "almost_palindrome(\"abccia\") ➞ True\n",
    "# Transformed to \"abccba\" by changing \"i\" to \"b\".\n",
    "almost_palindrome(\"abcdaaa\") ➞ False\n",
    "# Can't be transformed to a palindrome in exactly 1 turn.\n",
    "almost_palindrome(\"1234312\") ➞ False \"\"\"\n",
    "\n",
    "import re\n",
    "def almost_palindrome(n):\n",
    "    split_n = re.findall(\"\\S\", n)\n",
    "    rev_split = re.findall(\"\\S\", n[::-1])\n",
    "    for i in range(len(split_n)):\n",
    "        if split_n[i] != rev_split[i]:\n",
    "            rev_split[i] = split_n[i]\n",
    "            break\n",
    "    s = \"\".join(rev_split)\n",
    "    if s == s[::-1]:\n",
    "        return True\n",
    "    else:\n",
    "        return False\n",
    "\n",
    "print(almost_palindrome(\"abcdcbg\"))\n",
    "print(almost_palindrome(\"abccia\"))\n",
    "print(almost_palindrome(\"abcdaaa\"))\n",
    "print(almost_palindrome(\"1234312\"))"
   ]
  },
  {
   "cell_type": "code",
   "execution_count": 3,
   "id": "13a37c07",
   "metadata": {},
   "outputs": [
    {
     "name": "stdout",
     "output_type": "stream",
     "text": [
      "4\n",
      "8\n",
      "10\n"
     ]
    }
   ],
   "source": [
    "\"\"\"3. Create a function that finds how many prime numbers there are, up to the\n",
    "given integer.\n",
    "\n",
    "Examples\n",
    "prime_numbers(10) ➞ 4\n",
    "# 2, 3, 5 and 7\n",
    "prime_numbers(20) ➞ 8\n",
    "# 2, 3, 5, 7, 11, 13, 17 and 19\n",
    "prime_numbers(30) ➞ 10\n",
    "# 2, 3, 5, 7, 11, 13, 17, 19, 23 and 29\"\"\"\n",
    "\n",
    "def prime_numbers(n):\n",
    "    l = []\n",
    "    for i in range(1,n+1):\n",
    "        count = 0\n",
    "        for j in range(1,i+1):\n",
    "            if i % j == 0:\n",
    "                count += 1\n",
    "        if count == 2:\n",
    "            l.append(i)\n",
    "    return len(l)\n",
    "\n",
    "print(prime_numbers(10))\n",
    "print(prime_numbers(20))\n",
    "print(prime_numbers(30))"
   ]
  },
  {
   "cell_type": "code",
   "execution_count": 4,
   "id": "223161dc",
   "metadata": {},
   "outputs": [
    {
     "name": "stdout",
     "output_type": "stream",
     "text": [
      "['Thursday', 'Monday']\n",
      "['Sunday', 'Sunday', 'Sunday']\n",
      "['Monday', 'Tuesday', 'Friday']\n"
     ]
    }
   ],
   "source": [
    "\"\"\"4. If today was Monday, in two days, it would be Wednesday.\n",
    "Create a function that takes in a list of days as input and the number of days\n",
    "to increment by. Return a list of days after n number of days has passed.\n",
    "Examples\n",
    "after_n_days([\"Thursday\", \"Monday\"], 4) ➞ [\"Monday\", \"Friday\"]\n",
    "after_n_days([\"Sunday\", \"Sunday\", \"Sunday\"], 1) ➞ [\"Monday\", \"Monday\",\"Monday\"]\n",
    "after_n_days([\"Monday\", \"Tuesday\", \"Friday\"], 1) ➞ [\"Tuesday\", \"Wednesday\",\"Saturday\"]\"\"\"\n",
    "import calendar\n",
    "def after_n_days(l, n):\n",
    "    name_days = ['Monday', 'Tuesday', 'Wednesday', 'Thursday', 'Friday', 'Saturday', 'Sunday', 'Monday', 'Tuesday', 'Wednesday', 'Thursday', 'Friday', 'Saturday', 'Sunday']\n",
    "    # name_days.append(list(calendar.day_name))\n",
    "    # name_days.append(list(calendar.day_name))\n",
    "    #print(name_days)\n",
    "    result = []\n",
    "    for j in l:\n",
    "        for i in range(len(name_days)):\n",
    "            if name_days[i] == j:\n",
    "                s = name_days[i+4:i+5]\n",
    "                result.append(s)\n",
    "                break\n",
    "    return l\n",
    "\n",
    "print(after_n_days([\"Thursday\", \"Monday\"], 4))\n",
    "print(after_n_days([\"Sunday\", \"Sunday\", \"Sunday\"], 1))\n",
    "print(after_n_days([\"Monday\", \"Tuesday\", \"Friday\"], 1))"
   ]
  },
  {
   "cell_type": "code",
   "execution_count": 5,
   "id": "dd6a54c1",
   "metadata": {},
   "outputs": [
    {
     "name": "stdout",
     "output_type": "stream",
     "text": [
      "True\n",
      "True\n",
      "False\n"
     ]
    }
   ],
   "source": [
    "\"\"\"5. You are in the process of creating a chat application and want to add an\n",
    "anonymous name feature. This anonymous name feature will create an alias\n",
    "that consists of two capitalized words beginning with the same letter as the\n",
    "users first name.\n",
    "Create a function that determines if the list of users is mapped to a list of\n",
    "anonymous names correctly.\n",
    "Examples\n",
    "is_correct_aliases([\"Adrian M.\", \"Harriet S.\", \"Mandy T.\"],\n",
    "[\"Amazing Artichoke\", \"Hopeful Hedgehog\", \"Marvelous Mouse\"]) ➞ True\n",
    "is_correct_aliases([\"Rachel F.\", \"Pam G.\", \"Fred Z.\", \"Nancy K.\"],\n",
    "[\"Reassuring Rat\", \"Peaceful Panda\", \"Fantastic Frog\", \"Notable Nickel\"]) ➞\n",
    "True\n",
    "is_correct_aliases([\"Beth T.\"], [\"Brandishing Mimosa\"]) ➞ False\n",
    "# Both words in \"Brandishing Mimosa\" should begin with a \"B\" - \"Brandishing\n",
    "Beaver\" would do the trick.\"\"\"\n",
    "\n",
    "def is_correct_aliases(l1, l2):\n",
    "    i = 0\n",
    "    j = 0\n",
    "    while i < len(l1):\n",
    "        while j < len(l2):\n",
    "            s = l2[j].split(\" \")\n",
    "            for k in range(len(s)):\n",
    "                if l1[i][0] == s[k][0]:\n",
    "                    continue\n",
    "                else:\n",
    "                    return False\n",
    "            i += 1\n",
    "            j += 1\n",
    "    else:\n",
    "        return True\n",
    "\n",
    "print(is_correct_aliases([\"Adrian M.\", \"Harriet S.\", \"Mandy T.\"],\n",
    "[\"Amazing Artichoke\", \"Hopeful Hedgehog\", \"Marvelous Mouse\"]))\n",
    "print(is_correct_aliases([\"Rachel F.\", \"Pam G.\", \"Fred Z.\", \"Nancy K.\"],\n",
    "[\"Reassuring Rat\", \"Peaceful Panda\", \"Fantastic Frog\", \"Notable Nickel\"]))\n",
    "print(is_correct_aliases([\"Beth T.\"], [\"Brandishing Mimosa\"]))\n",
    "\n"
   ]
  },
  {
   "cell_type": "code",
   "execution_count": null,
   "id": "0d27b2c4",
   "metadata": {},
   "outputs": [],
   "source": []
  }
 ],
 "metadata": {
  "kernelspec": {
   "display_name": "Python 3 (ipykernel)",
   "language": "python",
   "name": "python3"
  },
  "language_info": {
   "codemirror_mode": {
    "name": "ipython",
    "version": 3
   },
   "file_extension": ".py",
   "mimetype": "text/x-python",
   "name": "python",
   "nbconvert_exporter": "python",
   "pygments_lexer": "ipython3",
   "version": "3.9.7"
  }
 },
 "nbformat": 4,
 "nbformat_minor": 5
}
