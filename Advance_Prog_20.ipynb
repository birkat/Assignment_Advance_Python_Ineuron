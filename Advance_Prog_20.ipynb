{
 "cells": [
  {
   "cell_type": "code",
   "execution_count": 1,
   "id": "cb933f8f",
   "metadata": {},
   "outputs": [
    {
     "name": "stdout",
     "output_type": "stream",
     "text": [
      "<p class='one two three'></p>\n",
      "<p class='one'></p>\n",
      "<p class='four five'></p>\n"
     ]
    }
   ],
   "source": [
    "\"\"\"1. Create a function based on the input and output. Look at the examples,\n",
    "there is a pattern.\n",
    "Examples\n",
    "secret(\"p.one.two.three\") ➞ \"<p class='one two three'></p>\"\n",
    "secret(\"p.one\") ➞ \"<p class='one'></p>\"\n",
    "secret(\"p.four.five\") ➞ \"<p class='four five'></p>\" \"\"\"\n",
    "\n",
    "def secret(n):\n",
    "    s = \"<p class='\"\n",
    "    n = n.replace(\".\", \" \")\n",
    "    s += n[2:]\n",
    "    s += \"'></p>\"\n",
    "    return s\n",
    "\n",
    "print(secret(\"p.one.two.three\"))\n",
    "print(secret(\"p.one\"))\n",
    "print(secret(\"p.four.five\"))"
   ]
  },
  {
   "cell_type": "code",
   "execution_count": 2,
   "id": "3b6fe0c9",
   "metadata": {},
   "outputs": [
    {
     "ename": "TypeError",
     "evalue": "object of type 'int' has no len()",
     "output_type": "error",
     "traceback": [
      "\u001b[1;31m---------------------------------------------------------------------------\u001b[0m",
      "\u001b[1;31mTypeError\u001b[0m                                 Traceback (most recent call last)",
      "\u001b[1;32m~\\AppData\\Local\\Temp/ipykernel_5316/3471766004.py\u001b[0m in \u001b[0;36m<module>\u001b[1;34m\u001b[0m\n\u001b[0;32m     14\u001b[0m     \u001b[1;32mreturn\u001b[0m \u001b[0mcount\u001b[0m\u001b[1;33m\u001b[0m\u001b[1;33m\u001b[0m\u001b[0m\n\u001b[0;32m     15\u001b[0m \u001b[1;33m\u001b[0m\u001b[0m\n\u001b[1;32m---> 16\u001b[1;33m \u001b[0mprint\u001b[0m\u001b[1;33m(\u001b[0m\u001b[0mcount_lone_ones\u001b[0m\u001b[1;33m(\u001b[0m\u001b[1;36m101\u001b[0m\u001b[1;33m)\u001b[0m\u001b[1;33m)\u001b[0m\u001b[1;33m\u001b[0m\u001b[1;33m\u001b[0m\u001b[0m\n\u001b[0m",
      "\u001b[1;32m~\\AppData\\Local\\Temp/ipykernel_5316/3471766004.py\u001b[0m in \u001b[0;36mcount_lone_ones\u001b[1;34m(n)\u001b[0m\n\u001b[0;32m      9\u001b[0m \u001b[1;32mdef\u001b[0m \u001b[0mcount_lone_ones\u001b[0m\u001b[1;33m(\u001b[0m\u001b[0mn\u001b[0m\u001b[1;33m)\u001b[0m\u001b[1;33m:\u001b[0m\u001b[1;33m\u001b[0m\u001b[1;33m\u001b[0m\u001b[0m\n\u001b[0;32m     10\u001b[0m     \u001b[0mcount\u001b[0m \u001b[1;33m=\u001b[0m \u001b[1;36m0\u001b[0m\u001b[1;33m\u001b[0m\u001b[1;33m\u001b[0m\u001b[0m\n\u001b[1;32m---> 11\u001b[1;33m     \u001b[1;32mfor\u001b[0m \u001b[0mi\u001b[0m \u001b[1;32min\u001b[0m \u001b[0mrange\u001b[0m\u001b[1;33m(\u001b[0m\u001b[0mlen\u001b[0m\u001b[1;33m(\u001b[0m\u001b[0mn\u001b[0m\u001b[1;33m)\u001b[0m\u001b[1;33m)\u001b[0m\u001b[1;33m:\u001b[0m\u001b[1;33m\u001b[0m\u001b[1;33m\u001b[0m\u001b[0m\n\u001b[0m\u001b[0;32m     12\u001b[0m         \u001b[1;32mif\u001b[0m \u001b[0mn\u001b[0m\u001b[1;33m[\u001b[0m\u001b[0mi\u001b[0m\u001b[1;33m]\u001b[0m \u001b[1;33m==\u001b[0m \u001b[1;36m1\u001b[0m\u001b[1;33m:\u001b[0m\u001b[1;33m\u001b[0m\u001b[1;33m\u001b[0m\u001b[0m\n\u001b[0;32m     13\u001b[0m             \u001b[0mcount\u001b[0m \u001b[1;33m+=\u001b[0m \u001b[1;36m1\u001b[0m\u001b[1;33m\u001b[0m\u001b[1;33m\u001b[0m\u001b[0m\n",
      "\u001b[1;31mTypeError\u001b[0m: object of type 'int' has no len()"
     ]
    }
   ],
   "source": [
    "\"\"\"2. Create a function which counts how many lone 1s appear in a given\n",
    "number. Lone means the number doesn't appear twice or more in a row.\n",
    "Examples\n",
    "count_lone_ones(101) ➞ 2\n",
    "count_lone_ones(1191) ➞ 1\n",
    "count_lone_ones(1111) ➞ 0\n",
    "count_lone_ones(462) ➞ 0\"\"\"\n",
    "\n",
    "def count_lone_ones(n):\n",
    "    count = 0\n",
    "    for i in range(len(n)):\n",
    "        if n[i] == 1:\n",
    "            count += 1\n",
    "    return count\n",
    "\n",
    "print(count_lone_ones(101))"
   ]
  },
  {
   "cell_type": "code",
   "execution_count": 3,
   "id": "cc7a9ac0",
   "metadata": {},
   "outputs": [
    {
     "name": "stdout",
     "output_type": "stream",
     "text": [
      "[[1, 4, 7, 10, 13, 16], [2, 5, 8, 11, 14, 17], [3, 6, 9, 12, 15, 18]]\n"
     ]
    }
   ],
   "source": [
    "\"\"\"3. Write a method that accepts two integer parameters rows and cols. The\n",
    "output is a 2d array of numbers displayed in column-major order, meaning the\n",
    "numbers shown increase sequentially down each column and wrap to the top\n",
    "of the next column to the right once the bottom of the current column is\n",
    "reached.\n",
    "Examples\n",
    "printGrid(3, 6) ➞ [\n",
    "[1, 4, 7, 10, 13, 16],\n",
    "[2, 5, 8, 11, 14, 17],\n",
    "[3, 6, 9, 12, 15, 18]\n",
    "]\n",
    "printGrid(5, 3) ➞ [\n",
    "[1, 6, 11],\n",
    "[2, 7, 12],\n",
    "[3, 8, 13],\n",
    "[4, 9, 14],\n",
    "[5, 10, 15]\n",
    "]\n",
    "\n",
    "printGrid(4, 1) ➞ [\n",
    "[1],\n",
    "[2],\n",
    "[3],\n",
    "[4]\n",
    "]\"\"\"\n",
    "# import numpy as np\n",
    "# def printGrid(r, c):\n",
    "#     count = 1\n",
    "#     C = np.zeros([r, c], dtype=int)\n",
    "#     for j in range(len(C[0])):\n",
    "#         for i in range(len(C)):\n",
    "#                 C[i][j] = count\n",
    "#                 count += 1\n",
    "#     return C\n",
    "\n",
    "def printGrid(rows, cols):\n",
    "    grid = [[1 for j in range(cols)] for i in range(rows)]\n",
    "    count = 1\n",
    "    for j in range(cols):\n",
    "        for i in range(rows):\n",
    "            grid[i][j] = count\n",
    "            count += 1\n",
    "    return grid\n",
    "\n",
    "\n",
    "print(printGrid(3, 6))\n",
    "#print(printGrid(5, 3))"
   ]
  },
  {
   "cell_type": "code",
   "execution_count": null,
   "id": "92816bda",
   "metadata": {},
   "outputs": [],
   "source": []
  }
 ],
 "metadata": {
  "kernelspec": {
   "display_name": "Python 3 (ipykernel)",
   "language": "python",
   "name": "python3"
  },
  "language_info": {
   "codemirror_mode": {
    "name": "ipython",
    "version": 3
   },
   "file_extension": ".py",
   "mimetype": "text/x-python",
   "name": "python",
   "nbconvert_exporter": "python",
   "pygments_lexer": "ipython3",
   "version": "3.9.7"
  }
 },
 "nbformat": 4,
 "nbformat_minor": 5
}
