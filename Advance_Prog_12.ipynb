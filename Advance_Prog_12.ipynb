{
 "cells": [
  {
   "cell_type": "code",
   "execution_count": 1,
   "id": "149c8863",
   "metadata": {},
   "outputs": [
    {
     "name": "stdout",
     "output_type": "stream",
     "text": [
      "515\n",
      "1103\n",
      "31499\n"
     ]
    }
   ],
   "source": [
    "\"\"\"1. For this challenge, forget how to add two numbers together. The best\n",
    "explanation on what to do for this function is this meme:\n",
    "\n",
    "Examples\n",
    "meme_sum(26, 39) ➞ 515\n",
    "# 2+3 = 5, 6+9 = 15\n",
    "# 26 + 39 = 515\n",
    "meme_sum(122, 81) ➞ 1103\n",
    "# 1+0 = 1, 2+8 = 10, 2+1 = 3\n",
    "# 122 + 81 = 1103\n",
    "meme_sum(1222, 30277) ➞ 31499\"\"\"\n",
    "\n",
    "def meme_sum(n1, n2):\n",
    "    s1 = str(n1)\n",
    "    s2 = str(n2)\n",
    "    if len(s1) != len(s2):\n",
    "        if len(s1) < len(s2):\n",
    "            s1 = \"0\" + str(n1)\n",
    "        else:\n",
    "            s2 = \"0\" + str(n2)\n",
    "        return add_num(s1, s2)\n",
    "    else:\n",
    "       return add_num(s1, s2)\n",
    "\n",
    "def add_num(s1, s2):\n",
    "    num =\"\"\n",
    "    for j in range(len(s1)):\n",
    "        for k in range(len(s2)):\n",
    "            if j == k:\n",
    "                num = num+ str(int(s1[j])+ int(s2[k]))\n",
    "    return int(num)\n",
    "\n",
    "print(meme_sum(26, 39))\n",
    "print(meme_sum(122, 81))\n",
    "print(meme_sum(1222, 30277))"
   ]
  },
  {
   "cell_type": "code",
   "execution_count": 2,
   "id": "9edd9562",
   "metadata": {},
   "outputs": [
    {
     "name": "stdout",
     "output_type": "stream",
     "text": [
      "13\n",
      "29\n",
      "11\n"
     ]
    }
   ],
   "source": [
    "\"\"\"2. Given an integer, create a function that returns the next prime. If the\n",
    "number is prime, return the number itself.\n",
    "Examples\n",
    "\n",
    "next_prime(12) ➞ 13\n",
    "next_prime(24) ➞ 29\n",
    "next_prime(11) ➞ 11\n",
    "# 11 is a prime, so we return the number itself.\"\"\"\n",
    "\n",
    "def next_prime(n):\n",
    "    while n > 2:\n",
    "        for i in range(2, int(n/2) + 1):\n",
    "            if n % i == 0:\n",
    "                n += 1\n",
    "                break\n",
    "        else:\n",
    "            return n\n",
    "\n",
    "print(next_prime(12))\n",
    "print(next_prime(24))\n",
    "print(next_prime(11))"
   ]
  },
  {
   "cell_type": "code",
   "execution_count": 3,
   "id": "e4736747",
   "metadata": {},
   "outputs": [
    {
     "data": {
      "text/plain": [
       "'3. If a person traveled up a hill for 18mins at 20mph and then traveled back\\ndown the same path at 60mph then their average speed traveled was 30mph.\\nWrite a function that returns the average speed traveled given an uphill time,\\nuphill rate and a downhill rate. Uphill time is given in minutes. Return the rate\\nas an integer (mph). No rounding is necessary.\\nExamples\\nave_spd(18, 20, 60) ➞ 30\\nave_spd(30, 10, 30) ➞ 15\\nave_spd(30, 8, 24) ➞ 12'"
      ]
     },
     "execution_count": 3,
     "metadata": {},
     "output_type": "execute_result"
    }
   ],
   "source": [
    "\"\"\"3. If a person traveled up a hill for 18mins at 20mph and then traveled back\n",
    "down the same path at 60mph then their average speed traveled was 30mph.\n",
    "Write a function that returns the average speed traveled given an uphill time,\n",
    "uphill rate and a downhill rate. Uphill time is given in minutes. Return the rate\n",
    "as an integer (mph). No rounding is necessary.\n",
    "Examples\n",
    "ave_spd(18, 20, 60) ➞ 30\n",
    "ave_spd(30, 10, 30) ➞ 15\n",
    "ave_spd(30, 8, 24) ➞ 12\"\"\""
   ]
  },
  {
   "cell_type": "code",
   "execution_count": 4,
   "id": "19a6736f",
   "metadata": {},
   "outputs": [
    {
     "name": "stdout",
     "output_type": "stream",
     "text": [
      "3\n",
      "5\n",
      "2\n",
      "5\n"
     ]
    }
   ],
   "source": [
    "\"\"\"4. The Kempner Function, applied to a composite number, permits to find the\n",
    "smallest integer greater than zero whose factorial is exactly divided by the\n",
    "number.\n",
    "kempner(6) ➞ 3\n",
    "1! = 1 % 6 > 0\n",
    "2! = 2 % 6 > 0\n",
    "3! = 6 % 6 === 0\n",
    "kempner(10) ➞ 5\n",
    "1! = 1 % 10 > 0\n",
    "2! = 2 % 10 > 0\n",
    "3! = 6 % 10 > 0\n",
    "4! = 24 % 10 > 0\n",
    "5! = 120 % 10 === 0\n",
    "A Kempner Function applied to a prime will always return the prime itself.\n",
    "kempner(2) ➞ 2\n",
    "kempner(5) ➞ 5\n",
    "\n",
    "Given an integer n, implement a Kempner Function.\n",
    "Examples\n",
    "kempner(6) ➞ 3\n",
    "kempner(10) ➞ 5\n",
    "kempner(2) ➞ 2\"\"\"\n",
    "\n",
    "def kempner(n):\n",
    "    if n == prime_number(n):\n",
    "        return n\n",
    "    else:\n",
    "        for i in range(1,n):\n",
    "            if fact_no(i) % n == 0:\n",
    "                return i\n",
    "\n",
    "def prime_number(prm_num):\n",
    "    if prm_num >= 2:\n",
    "        for i in range(2, int(prm_num / 2) + 1):\n",
    "            if prm_num % i == 0:\n",
    "                break\n",
    "        else:\n",
    "            return prm_num\n",
    "\n",
    "def fact_no(num):\n",
    "    fact = 1\n",
    "    for i in range(1, num + 1):\n",
    "        fact = fact * i\n",
    "    return fact\n",
    "\n",
    "print(kempner(6))\n",
    "print(kempner(10))\n",
    "print(kempner(2))\n",
    "print(kempner(5))"
   ]
  },
  {
   "cell_type": "code",
   "execution_count": 5,
   "id": "d76a3b55",
   "metadata": {},
   "outputs": [
    {
     "name": "stdout",
     "output_type": "stream",
     "text": [
      "5\n"
     ]
    }
   ],
   "source": [
    "\"\"\"5. You work in a factory, and your job is to take items from a conveyor belt\n",
    "and pack them into boxes. Each box can hold a maximum of 10 kgs. Given a\n",
    "list containing the weight (in kg) of each item, how many boxes would you\n",
    "need to pack all of the items?\n",
    "Example\n",
    "boxes([2, 1, 2, 5, 4, 3, 6, 1, 1, 9, 3, 2]) ➞ 5\n",
    "# Box 1 = [2, 1, 2, 5] (10kg)\n",
    "# Box 2 = [4, 3] (7kg)\n",
    "# Box 3 = [6, 1, 1] (8kg)\n",
    "# Box 4 = [9] (9kg)\n",
    "# Box 5 = [3, 2] (5kg)\"\"\"\n",
    "\n",
    "def boxes(n):\n",
    "    sum = 0\n",
    "    count = 0\n",
    "    for i in n:\n",
    "        sum += i\n",
    "        if sum > 10:\n",
    "            count += 1\n",
    "            sum = i\n",
    "    if sum > 0:\n",
    "        count += 1\n",
    "    return count\n",
    "\n",
    "print(boxes([2, 1, 2, 5, 4, 3, 6, 1, 1, 9, 3, 2]))\n"
   ]
  },
  {
   "cell_type": "code",
   "execution_count": null,
   "id": "2fece7c7",
   "metadata": {},
   "outputs": [],
   "source": []
  }
 ],
 "metadata": {
  "kernelspec": {
   "display_name": "Python 3 (ipykernel)",
   "language": "python",
   "name": "python3"
  },
  "language_info": {
   "codemirror_mode": {
    "name": "ipython",
    "version": 3
   },
   "file_extension": ".py",
   "mimetype": "text/x-python",
   "name": "python",
   "nbconvert_exporter": "python",
   "pygments_lexer": "ipython3",
   "version": "3.9.7"
  }
 },
 "nbformat": 4,
 "nbformat_minor": 5
}
