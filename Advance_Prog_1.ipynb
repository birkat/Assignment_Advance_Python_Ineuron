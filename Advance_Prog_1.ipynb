{
 "cells": [
  {
   "cell_type": "code",
   "execution_count": 1,
   "id": "e616ebe3",
   "metadata": {},
   "outputs": [
    {
     "name": "stdout",
     "output_type": "stream",
     "text": [
      "2\n",
      "-1\n"
     ]
    }
   ],
   "source": [
    "\"\"\"1. Write a function that takes a list of lists and returns the value of all of the\n",
    "symbols in it, where each symbol adds or takes something from the total\n",
    "score. Symbol values:\n",
    "# = 5\n",
    "O = 3\n",
    "X = 1\n",
    "! = -1\n",
    "!! = -3\n",
    "!!! = -5\n",
    "A list of lists containing 2 #s, a O, and a !!! would equal (0 + 5 + 5 + 3 - 5) 8.\n",
    "If the final score is negative, return 0 (e.g. 3 #s, 3 !!s, 2 !!!s and a X would be\n",
    "(0 + 5 + 5 + 5 - 3 - 3 - 3 - 5 - 5 + 1) -3, so return 0.\n",
    "Examples\n",
    "check_score([\n",
    "[\"#\", \"!\"],\n",
    "[\"!!\", \"X\"]\n",
    "]) ➞ 2\n",
    "check_score([\n",
    "[\"!!!\", \"O\", \"!\"],\n",
    "[\"X\", \"#\", \"!!!\"],\n",
    "[\"!!\", \"X\", \"O\"]\n",
    "]) ➞ 0\"\"\"\n",
    "\n",
    "def check_score(l):\n",
    "    d = {\"#\": 5, \"O\": 3, \"X\": 1, \"!\": -1, \"!!\": -3, \"!!!\": -5}\n",
    "    sum = 0\n",
    "    for i in l:\n",
    "        for j in range(len(i)):\n",
    "            if i[j] in d:\n",
    "                sum = sum + d[i[j]]\n",
    "    return sum\n",
    "\n",
    "            #print(i[j])\n",
    "\n",
    "print(check_score([\n",
    "[\"#\", \"!\"],\n",
    "[\"!!\", \"X\"]\n",
    "]))\n",
    "\n",
    "print(check_score([\n",
    "[\"!!!\", \"O\", \"!\"],\n",
    "[\"X\", \"#\", \"!!!\"],\n",
    "[\"!!\", \"X\", \"O\"]\n",
    "]))\n"
   ]
  },
  {
   "cell_type": "code",
   "execution_count": 2,
   "id": "6dddb53d",
   "metadata": {},
   "outputs": [
    {
     "name": "stdout",
     "output_type": "stream",
     "text": [
      "6\n",
      "84\n",
      "120\n"
     ]
    }
   ],
   "source": [
    "\"\"\"2. Create a function that takes a variable number of arguments, each\n",
    "argument representing the number of items in a group, and returns the\n",
    "number of permutations (combinations) of items that you could get by taking\n",
    "one item from each group.\n",
    "Examples\n",
    "combinations(2, 3) ➞ 6\n",
    "combinations(3, 7, 4) ➞ 84\n",
    "combinations(2, 3, 4, 5) ➞ 120\"\"\"\n",
    "\n",
    "def combinations(*args):\n",
    "    mul = 1\n",
    "    for i in args:\n",
    "        mul = mul * i\n",
    "    return mul\n",
    "\n",
    "print(combinations(2, 3))\n",
    "print(combinations(3, 7, 4))\n",
    "print(combinations(2, 3, 4, 5))"
   ]
  },
  {
   "cell_type": "code",
   "execution_count": 3,
   "id": "24e7347d",
   "metadata": {},
   "outputs": [
    {
     "name": "stdout",
     "output_type": "stream",
     "text": [
      " . -.. .- -... -... .. -   -.-. .... .- .-.. .-.. . -. --. .\n",
      " .... . .-.. .--.   -- .   -.-.--\n"
     ]
    }
   ],
   "source": [
    "\"\"\"3. Create a function that takes a string as an argument and returns the Morse\n",
    "code equivalent.\n",
    "Examples\n",
    "encode_morse(\"EDABBIT CHALLENGE\") ➞ \". -.. .- -... -... .. - -.-. .... .- .-.. .-..\n",
    ". -. --. .\"\n",
    "encode_morse(\"HELP ME !\") ➞ \".... . .-.. .--. -- . -.-.--\"\n",
    "\n",
    "This dictionary can be used for coding:\n",
    "\n",
    "char_to_dots = {\n",
    "\"A\": \".-\", \"B\": \"-...\", \"C\": \"-.-.\", \"D\": \"-..\", \"E\": \".\", \"F\": \"..-.\",\n",
    "\"G\": \"--.\", \"H\": \"....\", \"I\": \"..\", \"J\": \".---\", \"K\": \"-.-\", \"L\": \".-..\",\n",
    "\"M\": \"--\", \"N\": \"-.\", \"O\": \"---\", \"P\": \".--.\", \"Q\": \"--.-\", \"R\": \".-.\",\n",
    "\"S\": \"...\", \"T\": \"-\", \"U\": \"..-\", \"V\": \"...-\", \"W\": \".--\", \"X\": \"-..-\",\n",
    "\"Y\": \"-.--\", \"Z\": \"--..\", \" \": \" \", \"0\": \"-----\",\n",
    "\"1\": \".----\", \"2\": \"..---\", \"3\": \"...--\", \"4\": \"....-\", \"5\": \".....\",\n",
    "\"6\": \"-....\", \"7\": \"--...\", \"8\": \"---..\", \"9\": \"----.\",\n",
    "\"&\": \".-...\", \"'\": \".----.\", \"@\": \".--.-.\", \")\": \"-.--.-\", \"(\": \"-.--.\",\n",
    "\":\": \"---...\", \",\": \"--..--\", \"=\": \"-...-\", \"!\": \"-.-.--\", \".\": \".-.-.-\",\n",
    "\"-\": \"-....-\", \"+\": \".-.-.\", '\"': \".-..-.\", \"?\": \"..--..\", \"/\": \"-..-.\"\n",
    "}\n",
    " \"\"\"\n",
    "\n",
    "def encode_morse(n, m):\n",
    "    s = \"\"\n",
    "    for i in n:\n",
    "        if i in m:\n",
    "            s = s + \" \" + m[i]\n",
    "    return s\n",
    "\n",
    "char_to_dots = {\n",
    "\"A\": \".-\", \"B\": \"-...\", \"C\": \"-.-.\", \"D\": \"-..\", \"E\": \".\", \"F\": \"..-.\",\n",
    "\"G\": \"--.\", \"H\": \"....\", \"I\": \"..\", \"J\": \".---\", \"K\": \"-.-\", \"L\": \".-..\",\n",
    "\"M\": \"--\", \"N\": \"-.\", \"O\": \"---\", \"P\": \".--.\", \"Q\": \"--.-\", \"R\": \".-.\",\n",
    "\"S\": \"...\", \"T\": \"-\", \"U\": \"..-\", \"V\": \"...-\", \"W\": \".--\", \"X\": \"-..-\",\n",
    "\"Y\": \"-.--\", \"Z\": \"--..\", \" \": \" \", \"0\": \"-----\",\n",
    "\"1\": \".----\", \"2\": \"..---\", \"3\": \"...--\", \"4\": \"....-\", \"5\": \".....\",\n",
    "\"6\": \"-....\", \"7\": \"--...\", \"8\": \"---..\", \"9\": \"----.\",\n",
    "\"&\": \".-...\", \"'\": \".----.\", \"@\": \".--.-.\", \")\": \"-.--.-\", \"(\": \"-.--.\",\n",
    "\":\": \"---...\", \",\": \"--..--\", \"=\": \"-...-\", \"!\": \"-.-.--\", \".\": \".-.-.-\",\n",
    "\"-\": \"-....-\", \"+\": \".-.-.\", '\"': \".-..-.\", \"?\": \"..--..\", \"/\": \"-..-.\"\n",
    "}\n",
    "\n",
    "print(encode_morse(\"EDABBIT CHALLENGE\", char_to_dots))\n",
    "print(encode_morse(\"HELP ME !\",char_to_dots ))\n",
    "\n"
   ]
  },
  {
   "cell_type": "code",
   "execution_count": 4,
   "id": "fd9fda8b",
   "metadata": {},
   "outputs": [
    {
     "name": "stdout",
     "output_type": "stream",
     "text": [
      "True\n",
      "True\n",
      "False\n"
     ]
    }
   ],
   "source": [
    "\"\"\"4. Write a function that takes a number and returns True if it's a prime; False\n",
    "otherwise. The number can be 2^64-1 (2 to the power of 63, not XOR). With\n",
    "the standard technique it would be O(2^64-1), which is much too large for the\n",
    "10 second time limit.\n",
    "Examples\n",
    "prime(7) ➞ True\n",
    "prime(56963) ➞ True\n",
    "prime(5151512515524) ➞ False\"\"\"\n",
    "\n",
    "def prime(n):\n",
    "    if n > 1:\n",
    "        for i in range(2, int(n / 2) + 1):\n",
    "            if n % i == 0:\n",
    "                return False\n",
    "        else:\n",
    "            return True\n",
    "    else:\n",
    "        return False\n",
    "\n",
    "print(prime(7))\n",
    "print(prime(56963))\n",
    "print(prime(5151512515524))\n"
   ]
  },
  {
   "cell_type": "code",
   "execution_count": 5,
   "id": "b4518347",
   "metadata": {},
   "outputs": [
    {
     "name": "stdout",
     "output_type": "stream",
     "text": [
      "[False, True, False, True, True]\n",
      "[False, True, True, False]\n"
     ]
    }
   ],
   "source": [
    "\"\"\"5. Create a function that converts a word to a bitstring and then to a boolean\n",
    "list based on the following criteria:\n",
    "1. Locate the position of the letter in the English alphabet (from 1 to 26).\n",
    "2. Odd positions will be represented as 1 and 0 otherwise.\n",
    "3. Convert the represented positions to boolean values, 1 for True and 0\n",
    "for False.\n",
    "4. Store the conversions into an array.\n",
    "Examples\n",
    "to_boolean_list(\"deep\") ➞ [False, True, True, False]\n",
    "# deep converts to 0110\n",
    "# d is the 4th alphabet - 0\n",
    "# e is the 5th alphabet - 1\n",
    "# e is the 5th alphabet - 1\n",
    "# p is the 16th alphabet - 0\n",
    "to_boolean_list(\"loves\") ➞ [False, True, False, True, True]\n",
    "to_boolean_list(\"tesh\") ➞ [False, True, True, False]\"\"\"\n",
    "\n",
    "import string\n",
    "def to_boolean_list(n):\n",
    "    output = []\n",
    "    s = {}\n",
    "    l = []\n",
    "    k = 0\n",
    "    for j in range(1, 27):\n",
    "        l.append(j)\n",
    "    for i in string.ascii_lowercase:\n",
    "        s[i] = l[k]\n",
    "        k = k+1\n",
    "    #print(s)\n",
    "    for ev in n:\n",
    "        if ev in s:\n",
    "            if s[ev] % 2 == 0:\n",
    "                output.append(False)\n",
    "            else:\n",
    "                output.append(True)\n",
    "    return output\n",
    "\n",
    "print(to_boolean_list(\"loves\"))\n",
    "print(to_boolean_list(\"tesh\"))"
   ]
  },
  {
   "cell_type": "code",
   "execution_count": null,
   "id": "3f1e416c",
   "metadata": {},
   "outputs": [],
   "source": []
  }
 ],
 "metadata": {
  "kernelspec": {
   "display_name": "Python 3 (ipykernel)",
   "language": "python",
   "name": "python3"
  },
  "language_info": {
   "codemirror_mode": {
    "name": "ipython",
    "version": 3
   },
   "file_extension": ".py",
   "mimetype": "text/x-python",
   "name": "python",
   "nbconvert_exporter": "python",
   "pygments_lexer": "ipython3",
   "version": "3.9.7"
  }
 },
 "nbformat": 4,
 "nbformat_minor": 5
}
