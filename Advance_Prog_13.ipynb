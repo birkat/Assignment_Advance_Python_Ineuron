{
 "cells": [
  {
   "cell_type": "code",
   "execution_count": 1,
   "id": "d2b3bd52",
   "metadata": {},
   "outputs": [
    {
     "name": "stdout",
     "output_type": "stream",
     "text": [
      "['w']\n",
      "['b', 'g', 'w']\n",
      "[]\n"
     ]
    }
   ],
   "source": [
    "\"\"\"1. Create a function that takes a list and string. The function should remove\n",
    "the letters in the string from the list, and return the list.\n",
    "Examples\n",
    "remove_letters([\"s\", \"t\", \"r\", \"i\", \"n\", \"g\", \"w\"], \"string\") ➞ [\"w\"]\n",
    "remove_letters([\"b\", b\", \"l\", \"l\", \"g\", \"n\", \"o\", \"a\", \"w\"], \"balloon\") ➞ [\"b\", \"g\", \"w\"]\n",
    "remove_letters([\"d\", \"b\", \"t\", \"e\", \"a\", \"i\"], \"edabit\") ➞ []\"\"\"\n",
    "\n",
    "def remove_letters(c, s):\n",
    "    l = []\n",
    "    for i in c:\n",
    "        if c.count(i) > 1:\n",
    "            if s.count(i) > 1:\n",
    "                pass\n",
    "            else:\n",
    "                if i not in l:\n",
    "                    l.append(i)\n",
    "    for j in c:\n",
    "        if j not in s:\n",
    "            if j not in l:\n",
    "                l.append(j)\n",
    "    return l\n",
    "\n",
    "print(remove_letters([\"s\", \"t\", \"r\", \"i\", \"n\", \"g\", \"w\"], \"string\"))\n",
    "print(remove_letters([\"b\", \"b\", \"l\", \"l\", \"g\", \"n\", \"o\", \"a\", \"w\"], \"balloon\"))\n",
    "print(remove_letters([\"d\", \"b\", \"t\", \"e\", \"a\", \"i\"], \"edabit\"))\n",
    "\n"
   ]
  },
  {
   "cell_type": "code",
   "execution_count": 2,
   "id": "6c3756a0",
   "metadata": {},
   "outputs": [
    {
     "name": "stdout",
     "output_type": "stream",
     "text": [
      "5\n",
      "39\n",
      "12\n"
     ]
    }
   ],
   "source": [
    "\"\"\"2. A block sequence in three dimensions. We can write a formula for this one:\n",
    "Create a function that takes a number (step) as an argument and returns the\n",
    "amount of blocks in that step.\n",
    "Examples\n",
    "blocks(1) ➞ 5\n",
    "blocks(5) ➞ 39\n",
    "blocks(2) ➞ 12\"\"\"\n",
    "\n",
    "def blocks(step):\n",
    "    base = 5\n",
    "    sum = 0\n",
    "    i = 1\n",
    "    while i <= step:\n",
    "        sum = sum + base + i\n",
    "        i += 1\n",
    "    return sum - 1\n",
    "\n",
    "print(blocks(1))\n",
    "print(blocks(5))\n",
    "print(blocks(2))"
   ]
  },
  {
   "cell_type": "code",
   "execution_count": 3,
   "id": "3a6ecc9d",
   "metadata": {},
   "outputs": [
    {
     "name": "stdout",
     "output_type": "stream",
     "text": [
      "4\n",
      "20\n",
      "0\n"
     ]
    }
   ],
   "source": [
    "\"\"\"3. Create a function that subtracts one positive integer from another, without\n",
    "using any arithmetic operators such as -, %, /, +, etc.\n",
    "Examples\n",
    "my_sub(5, 9) ➞ 4\n",
    "my_sub(10, 30) ➞ 20\n",
    "my_sub(0, 0) ➞ 0\"\"\"\n",
    "\n",
    "def my_sub(n1, n2):\n",
    "    l2 = []\n",
    "    l1 = []\n",
    "    for i in range(0, n2):\n",
    "        l2.append(\"#\")\n",
    "    for j in range(0, n1):\n",
    "        l1.append(\"#\")\n",
    "    c1 = l1.count(\"#\")\n",
    "    result = l2[c1:].count(\"#\")\n",
    "    return result\n",
    "\n",
    "print(my_sub(5, 9))\n",
    "print(my_sub(10, 30))\n",
    "print(my_sub(0, 0))"
   ]
  },
  {
   "cell_type": "code",
   "execution_count": 4,
   "id": "082b0339",
   "metadata": {},
   "outputs": [
    {
     "name": "stdout",
     "output_type": "stream",
     "text": [
      "70\n",
      "170\n",
      "2200\n"
     ]
    }
   ],
   "source": [
    "\"\"\"4. Create a function that takes a string containing money in dollars and\n",
    "pounds sterling (seperated by comma) and returns the sum of dollar bills only,\n",
    "as an integer.\n",
    "For the input string:\n",
    "- Each amount is prefixed by the currency symbol: $ for dollars and £ for\n",
    "pounds.\n",
    "- Thousands are represented by the suffix k.\n",
    "i.e. $4k = $4,000 and £40k = £40,000\n",
    "Examples\n",
    "add_bill(\"d20,p40,p60,d50\") ➞ 20 + 50 = 70\n",
    "add_bill(\"p30,d20,p60,d150,p360\") ➞ 20 + 150 = 170\n",
    "add_bill(\"p30,d2k,p60,d200,p360\") ➞ 2 * 1000 + 200 = 2200\"\"\"\n",
    "\n",
    "def add_bill(money):\n",
    "    sep_money = money.split(\",\")\n",
    "    l = []\n",
    "    l1 =[]\n",
    "    sum = 0\n",
    "    for i in range(len(sep_money)):\n",
    "        if \"d\" in sep_money[i]:\n",
    "            l.append(sep_money[i])\n",
    "    for j in range(len(l)):\n",
    "        s = \"\"\n",
    "        for m in range(len(l[j])):\n",
    "            if l[j][m] == \"d\":\n",
    "                pass\n",
    "            else:\n",
    "                s = s + (l[j][m])\n",
    "        l1.append(s)\n",
    "    for n in range(len(l1)):\n",
    "        if \"k\" in l1[n]:\n",
    "            for o in range(len(l1[n])):\n",
    "                if l1[n][o] != \"k\":\n",
    "                    sum = sum + int(l1[n][o])\n",
    "                else:\n",
    "                    sum = sum * 1000\n",
    "        else:\n",
    "            sum = sum + int(l1[n])\n",
    "\n",
    "    return sum\n",
    "\n",
    "print(add_bill(\"d20,p40,p60,d50\"))\n",
    "print(add_bill(\"p30,d20,p60,d150,p360\"))\n",
    "print(add_bill(\"p30,d2k,p60,d200,p360\"))\n",
    "\n"
   ]
  },
  {
   "cell_type": "code",
   "execution_count": 5,
   "id": "6378e3ac",
   "metadata": {},
   "outputs": [
    {
     "name": "stdout",
     "output_type": "stream",
     "text": [
      "[[1], [2], [3], [4]]\n",
      "[5, 6, 9]\n",
      "[]\n"
     ]
    }
   ],
   "source": [
    "\"\"\"5. Create a function that flips a horizontal list into a vertical list, and a vertical\n",
    "list into a horizontal list.\n",
    "In other words, take an 1 x n list (1 row + n columns) and flip it into a n x 1 list\n",
    "(n rows and 1 column), and vice versa.\n",
    "Examples\n",
    "flip_list([1, 2, 3, 4]) ➞ [[1], [2], [3], [4]]\n",
    "# Take a horizontal list and flip it vertical.\n",
    "flip_list([[5], [6], [9]]) ➞ [5, 6, 9]\n",
    "# Take a vertical list and flip it horizontal.\n",
    "flip_list([]) ➞ []\"\"\"\n",
    "\n",
    "def flip_list1(n):\n",
    "    return [[i] for i in n]\n",
    "\n",
    "print(flip_list1([1, 2, 3, 4]))\n",
    "\n",
    "def flip_list(m):\n",
    "    return [i[0] for i in m]\n",
    "\n",
    "print(flip_list([[5], [6], [9]]))\n",
    "\n",
    "def flip_list1(n):\n",
    "    return [[i] for i in n]\n",
    "\n",
    "print(flip_list1([]))"
   ]
  },
  {
   "cell_type": "code",
   "execution_count": null,
   "id": "f2c14ade",
   "metadata": {},
   "outputs": [],
   "source": []
  }
 ],
 "metadata": {
  "kernelspec": {
   "display_name": "Python 3 (ipykernel)",
   "language": "python",
   "name": "python3"
  },
  "language_info": {
   "codemirror_mode": {
    "name": "ipython",
    "version": 3
   },
   "file_extension": ".py",
   "mimetype": "text/x-python",
   "name": "python",
   "nbconvert_exporter": "python",
   "pygments_lexer": "ipython3",
   "version": "3.9.7"
  }
 },
 "nbformat": 4,
 "nbformat_minor": 5
}
